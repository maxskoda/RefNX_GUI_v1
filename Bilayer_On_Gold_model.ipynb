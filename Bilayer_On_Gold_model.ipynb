{
  "nbformat": 4,
  "nbformat_minor": 0,
  "metadata": {
    "colab": {
      "provenance": [],
      "toc_visible": true,
      "authorship_tag": "ABX9TyMfSrtt0bH/Unrz10WbT/q5",
      "include_colab_link": true
    },
    "kernelspec": {
      "name": "python3",
      "display_name": "Python 3"
    },
    "language_info": {
      "name": "python"
    }
  },
  "cells": [
    {
      "cell_type": "markdown",
      "metadata": {
        "id": "view-in-github",
        "colab_type": "text"
      },
      "source": [
        "<a href=\"https://colab.research.google.com/github/maxskoda/RefNX_GUI_v1/blob/master/Bilayer_On_Gold_model.ipynb\" target=\"_parent\"><img src=\"https://colab.research.google.com/assets/colab-badge.svg\" alt=\"Open In Colab\"/></a>"
      ]
    },
    {
      "cell_type": "code",
      "execution_count": null,
      "metadata": {
        "collapsed": true,
        "cellView": "form",
        "id": "StyNRUCjTYCz"
      },
      "outputs": [],
      "source": [
        "# @title Installs\n",
        "!pip install refnx\n",
        "!pip install gspread"
      ]
    },
    {
      "cell_type": "code",
      "source": [
        "# @title Imports\n",
        "\n",
        "from google.colab import auth\n",
        "auth.authenticate_user()\n",
        "\n",
        "import gspread\n",
        "from google.auth import default\n",
        "creds, _ = default()\n",
        "\n",
        "gc = gspread.authorize(creds)\n",
        "\n",
        "from IPython.display import Javascript\n",
        "\n",
        "import pandas as pd\n",
        "import re\n",
        "import re\n",
        "import numpy as np\n",
        "import scipy.stats as stats\n",
        "import pandas as pd\n",
        "import matplotlib.pyplot as plt\n",
        "\n",
        "from refnx.reflect import SLD, Slab, ReflectModel, MixedReflectModel, FunctionalForm, Structure, sld_profile, Stack\n",
        "from refnx.analysis import Objective, GlobalObjective, Parameter, CurveFitter, Transform, process_chain\n",
        "\n",
        "from refnx.dataset import ReflectDataset\n",
        "\n",
        "from google.colab import sheets"
      ],
      "metadata": {
        "cellView": "form",
        "id": "uP2N9tqzThTw"
      },
      "execution_count": 135,
      "outputs": []
    },
    {
      "cell_type": "code",
      "source": [
        "# @title Helper functions\n",
        "\n",
        "# Function to create parameters from the table\n",
        "def create_parameter(name, value, lower, upper, vary, dist_type, param1, param2):\n",
        "    if dist_type == 'uniform':\n",
        "        return Parameter(value, name=name, bounds=(lower, upper), vary=vary)\n",
        "    elif dist_type == 'gaussian':\n",
        "        return Parameter(value, name=name, bounds=stats.norm(param1, param2), vary=vary)\n",
        "\n",
        "# Function to convert Google sheet to csv format\n",
        "def convert_gglsht_url(url):\n",
        "    pattern = r'https://docs\\.google\\.com/spreadsheets/d/([a-zA-Z0-9-_]+)(/edit#gid=(\\d+)|/edit.*)?'\n",
        "    replacement = lambda m: f'https://docs.google.com/spreadsheets/d/{m.group(1)}/export?' + (f'gid={m.group(3)}&' if m.group(3) else '') + 'format=csv'\n",
        "    new_url = re.sub(pattern, replacement, url)\n",
        "    return new_url"
      ],
      "metadata": {
        "cellView": "form",
        "id": "HHpx9urdYS1f"
      },
      "execution_count": 136,
      "outputs": []
    },
    {
      "cell_type": "code",
      "source": [
        "# @title Data entry sheets\n",
        "\n",
        "# Create a new interactive sheet and add data to it.\n",
        "# sheet = sheets.InteractiveSheet()\n",
        "\n",
        "# Open existing sheet\n",
        "sheet = gc.open('RefNX Parameter Table')"
      ],
      "metadata": {
        "id": "7epu6_3JdRes",
        "cellView": "form"
      },
      "execution_count": 137,
      "outputs": []
    },
    {
      "source": [
        "# @title Refresh spreadsheet and re-generate parameters\n",
        "# url = 'https://docs.google.com/spreadsheets/d/1aGrL-jpTJ-cuIqSGuJtwt4svpAMQA2-I3nzZrknrnvo/edit?gid=0#gid=0'\n",
        "# new_url = convert_gglsht_url(url)\n",
        "# print(new_url)\n",
        "\n",
        "def refresh_spreadsheet():\n",
        "  # Open the Google Sheet using its key\n",
        "  sheet = gc.open_by_key('1aGrL-jpTJ-cuIqSGuJtwt4svpAMQA2-I3nzZrknrnvo')\n",
        "\n",
        "  # Get the first worksheet\n",
        "  worksheet = sheet.get_worksheet(0)\n",
        "\n",
        "  # Convert the worksheet to a Pandas DataFrame\n",
        "  df = pd.DataFrame(worksheet.get_all_records())\n",
        "  # df\n",
        "\n",
        "  parameters = {}\n",
        "  for index, row in df.iterrows():\n",
        "      parameters[row['Name']] = create_parameter(\n",
        "          name=row['Name'],\n",
        "          value=row['Initial Value'],\n",
        "          lower=row['Lower Bound'],\n",
        "          upper=row['Upper Bound'],\n",
        "          vary=row['Vary'] == 'TRUE',\n",
        "          dist_type=row['Type'],\n",
        "          param1=row['Type Param 1'],\n",
        "          param2=row['Type Param 2']\n",
        "      )\n",
        "  return parameters\n",
        "\n",
        "parameters = refresh_spreadsheet()"
      ],
      "cell_type": "code",
      "metadata": {
        "id": "rfWM1Al_lcTX",
        "cellView": "form"
      },
      "execution_count": 138,
      "outputs": []
    },
    {
      "cell_type": "code",
      "source": [
        "# @title Generate and plot structure\n",
        "\n",
        "# execute function above to re-genearate parameters from spreadsheet\n",
        "parameters = refresh_spreadsheet()\n",
        "\n",
        "# Open the 'Layers' worksheet\n",
        "worksheet_layers = sheet.worksheet('Layers')\n",
        "\n",
        "# Convert the worksheet to a Pandas DataFrame\n",
        "df_layers = pd.DataFrame(worksheet_layers.get_all_records())\n",
        "\n",
        "# Create a list to store the layers\n",
        "layers = []\n",
        "\n",
        "# Iterate through the rows in the DataFrame\n",
        "for index, row in df_layers.iterrows():\n",
        "  # Get the layer name, thickness, SLD, and roughness parameters\n",
        "  thickness_param_name = row['Thickness']\n",
        "  sld_param_name = row['SLD']\n",
        "  roughness_param_name = row['Roughness']\n",
        "  hydration = row['Hydration']\n",
        "\n",
        "  # Create the Slab object using the parameters from the table\n",
        "  layer = Slab(\n",
        "      name=row['Layer Name'],\n",
        "      thick=parameters[thickness_param_name],\n",
        "      sld=parameters[sld_param_name],\n",
        "      rough=parameters[roughness_param_name] if roughness_param_name in parameters else Parameter(5), # Default roughness to 5 if not specified\n",
        "      vfsolv=parameters[hydration]/100 if hydration in parameters else Parameter(0) # Default to no hydration if not specified\n",
        "  )\n",
        "\n",
        "  # Add the layer to the list\n",
        "  layers.append(layer)\n",
        "\n",
        "si = SLD(2.07, name='Si substrate')\n",
        "d2o = SLD(6.35, name='D2O subphase')\n",
        "\n",
        "# Create the structure using the list of layers\n",
        "structure = si(0, 6)\n",
        "for layer in layers:\n",
        "  structure = structure | layer\n",
        "\n",
        "# Add the last layer\n",
        "structure = structure | d2o(0, parameters['Bilayer rough'])\n",
        "# print(structure)\n",
        "\n",
        "# Plot the structure\n",
        "structure.plot()\n"
      ],
      "metadata": {
        "colab": {
          "base_uri": "https://localhost:8080/",
          "height": 488
        },
        "id": "LLxSFdtTx4MC",
        "outputId": "7f3ffe19-96a8-4500-bdb0-1029b72da902",
        "cellView": "form"
      },
      "execution_count": 140,
      "outputs": [
        {
          "output_type": "execute_result",
          "data": {
            "text/plain": [
              "(<Figure size 640x480 with 1 Axes>,\n",
              " <Axes: xlabel='z / $\\\\AA$', ylabel='SLD / 1e-6 $\\\\AA^{-2}$'>)"
            ]
          },
          "metadata": {},
          "execution_count": 140
        },
        {
          "output_type": "display_data",
          "data": {
            "text/plain": [
              "<Figure size 640x480 with 1 Axes>"
            ],
            "image/png": "[encoded data removed]"
          },
          "metadata": {}
        }
      ]
    }
  ]
}